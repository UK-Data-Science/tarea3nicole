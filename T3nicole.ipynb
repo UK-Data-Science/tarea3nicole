{
 "cells": [
  {
   "cell_type": "code",
   "execution_count": 1,
   "id": "f901e99d-30ac-4769-9d7e-a932dfbb8109",
   "metadata": {},
   "outputs": [
    {
     "data": {
      "text/plain": [
       "'https://github.com/UK-Data-Science/tarea3nicole/raw/main/appendData.zip'"
      ]
     },
     "execution_count": 1,
     "metadata": {},
     "output_type": "execute_result"
    }
   ],
   "source": [
    "# link to repo - common to all files\n",
    "dataRepo='https://github.com/UK-Data-Science/tarea3nicole/raw/main/appendData.zip'\n",
    "\n",
    "dataRepo"
   ]
  },
  {
   "cell_type": "code",
   "execution_count": null,
   "id": "8832ee3c-4798-4fd2-8a79-daf24ef17a0f",
   "metadata": {},
   "outputs": [],
   "source": []
  }
 ],
 "metadata": {
  "kernelspec": {
   "display_name": "Python 3 (ipykernel)",
   "language": "python",
   "name": "python3"
  },
  "language_info": {
   "codemirror_mode": {
    "name": "ipython",
    "version": 3
   },
   "file_extension": ".py",
   "mimetype": "text/x-python",
   "name": "python",
   "nbconvert_exporter": "python",
   "pygments_lexer": "ipython3",
   "version": "3.11.8"
  }
 },
 "nbformat": 4,
 "nbformat_minor": 5
}
